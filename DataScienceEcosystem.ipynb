{
 "cells": [
  {
   "cell_type": "markdown",
   "id": "410284f9-1982-47ad-85f8-fd8f451abc5d",
   "metadata": {},
   "source": [
    "# Data Science Tools and Ecosystem"
   ]
  },
  {
   "cell_type": "markdown",
   "id": "1153e905-e0aa-4cc1-9f6a-ae80a40ca208",
   "metadata": {},
   "source": [
    "In this notebook, Data Science Tools and Ecosystem are summarized."
   ]
  },
  {
   "cell_type": "markdown",
   "id": "0c4b53da-7207-4e44-899d-2599b12099e6",
   "metadata": {},
   "source": [
    "Some of the popular languages that Data Scientists use are:\n",
    "<ol>\n",
    "    <li>Phyton</li>\n",
    "    <li>R</li>\n",
    "    <li>Java</li>\n",
    "</ol>"
   ]
  },
  {
   "cell_type": "markdown",
   "id": "cd654ab6-e377-4e57-947b-20cd0a916686",
   "metadata": {},
   "source": [
    "Some of the commonly used libraries used by Data Scientists include:\n",
    "<ol>\n",
    "    <li>Numpy</li>\n",
    "    <li>Pandas</li>\n",
    "    <li>matplotlib</li>\n",
    "    <li>seaborn</li>\n",
    "</ol>"
   ]
  },
  {
   "cell_type": "markdown",
   "id": "c646e471-ea3d-4550-a973-bc41dbc39348",
   "metadata": {},
   "source": [
    "|Data Science Tools|\n",
    "|---|\n",
    "|Jupyter Notebook|\n",
    "|Visual Studio Code|\n",
    "|R Studio|\n"
   ]
  },
  {
   "cell_type": "markdown",
   "id": "5d05b931-b462-4438-9cd5-56f921a42bc6",
   "metadata": {},
   "source": [
    "### Below are a few examples of evaluating arithmetic expressions in Python"
   ]
  },
  {
   "cell_type": "code",
   "execution_count": 38,
   "id": "bfc791b2-63d0-4f81-92b5-fd9f1e9f8b8c",
   "metadata": {},
   "outputs": [
    {
     "data": {
      "text/plain": [
       "17"
      ]
     },
     "execution_count": 38,
     "metadata": {},
     "output_type": "execute_result"
    }
   ],
   "source": [
    "# This a simple arithmetic expression to mutiply then add integers\n",
    "(3*4)+5"
   ]
  },
  {
   "cell_type": "code",
   "execution_count": 40,
   "id": "2a93741b-755c-45d2-aec9-271d1262c5ec",
   "metadata": {},
   "outputs": [
    {
     "data": {
      "text/plain": [
       "3.3333333333333335"
      ]
     },
     "execution_count": 40,
     "metadata": {},
     "output_type": "execute_result"
    }
   ],
   "source": [
    "# This will convert 200 minutes to hours by diving by 60\n",
    "200/60"
   ]
  },
  {
   "cell_type": "markdown",
   "id": "70e41d8d-d875-40e3-9807-ce9674b7a98f",
   "metadata": {},
   "source": [
    "**Objectives:**\n",
    "1. To get familiar with Jupyter notebook environment.\n",
    "2. Practicing markdown and code cell in Jupyter notebook.\n",
    "\n",
    "for example creating unordered list in markdown cell:\n",
    "list popular languages for data sciences:\n",
    "* Python\n",
    "* R\n",
    "* Java\n",
    "\n"
   ]
  },
  {
   "cell_type": "markdown",
   "id": "0bd2923a-f821-4418-87cc-0266a4166547",
   "metadata": {},
   "source": [
    "## Author\n",
    "Riza Yophi Prayuda"
   ]
  },
  {
   "cell_type": "code",
   "execution_count": null,
   "id": "789bfb9c-e107-444c-9016-4d65d315d859",
   "metadata": {},
   "outputs": [],
   "source": []
  },
  {
   "cell_type": "code",
   "execution_count": null,
   "id": "4950a29e-0ca0-4276-98ce-869110c25487",
   "metadata": {},
   "outputs": [],
   "source": []
  }
 ],
 "metadata": {
  "kernelspec": {
   "display_name": "Python 3 (ipykernel)",
   "language": "python",
   "name": "python3"
  },
  "language_info": {
   "codemirror_mode": {
    "name": "ipython",
    "version": 3
   },
   "file_extension": ".py",
   "mimetype": "text/x-python",
   "name": "python",
   "nbconvert_exporter": "python",
   "pygments_lexer": "ipython3",
   "version": "3.12.4"
  }
 },
 "nbformat": 4,
 "nbformat_minor": 5
}
